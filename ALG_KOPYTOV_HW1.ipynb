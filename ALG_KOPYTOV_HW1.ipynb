{
 "cells": [
  {
   "cell_type": "markdown",
   "metadata": {},
   "source": [
    "# Домашнее задание №1\n",
    "\n",
    "**Дисциплина:** Алгоритмы и структуры данных  \n",
    "**Студент:** Копытов Иван Максимович  \n",
    "**Группа:** МФТИ-АиСД-13  "
   ]
  },
  {
   "cell_type": "markdown",
   "metadata": {},
   "source": [
    "# Задача №1 (Two sum)\n",
    "\n",
    "**описание:** Дан отсортированный по возрастанию\n",
    "массив целых чисел и некоторое число target\n",
    "Необходимо найти два числа в массиве,\n",
    "которые в сумме дают заданное значение\n",
    "target, и вернуть их индексы.\n"
   ]
  },
  {
   "cell_type": "code",
   "execution_count": 4,
   "metadata": {},
   "outputs": [
    {
     "name": "stdout",
     "output_type": "stream",
     "text": [
      "[2, 4]\n"
     ]
    }
   ],
   "source": [
    "def two_sum(nums, target):\n",
    "    left = 0\n",
    "    right = len(nums) - 1\n",
    "\n",
    "    while left < right:\n",
    "        total = nums[left] + nums[right]\n",
    "\n",
    "        if total == target:\n",
    "            return [left, right]\n",
    "        elif total < target:\n",
    "            left += 1\n",
    "        else:\n",
    "            right -= 1\n",
    "\n",
    "    return []\n",
    "\n",
    "# Пример использования\n",
    "nums = [3, 8, 9, 11, 16, 18, 19, 21]\n",
    "target = 25\n",
    "result = two_sum(nums, target)\n",
    "print(result) "
   ]
  },
  {
   "cell_type": "markdown",
   "metadata": {},
   "source": [
    "# Задача №2 (Развернуть массив)\n",
    "\n",
    "**описание:** Дан массив целых чисел.\n",
    "Необходимо развернуть его.\n",
    "Сделать это надо за линейное время без\n",
    "дополнительных аллокаций памяти"
   ]
  },
  {
   "cell_type": "code",
   "execution_count": 5,
   "metadata": {},
   "outputs": [
    {
     "name": "stdout",
     "output_type": "stream",
     "text": [
      "[6, 8, 9, 9, 6, 8, 3]\n"
     ]
    }
   ],
   "source": [
    "def reverse_array(arr):\n",
    "    left = 0\n",
    "    right = len(arr) - 1\n",
    "\n",
    "    while left < right:\n",
    "        arr[left], arr[right] = arr[right], arr[left]\n",
    "        left += 1\n",
    "        right -= 1\n",
    "    \n",
    "    return arr\n",
    "\n",
    "# Пример использования\n",
    "nums = [3, 8, 6, 9, 9, 8, 6]\n",
    "print(reverse_array(nums))  "
   ]
  },
  {
   "cell_type": "markdown",
   "metadata": {},
   "source": [
    "# Задача №3 (Развернуть часть массива)\n",
    "\n",
    "**описание:** Дан массив целых чисел.\n",
    "Необходимо повернуть (сдвинуть) справа налево часть массива, которая\n",
    "указана вторым параметром.\n",
    "Сделать это надо за линейное время без дополнительных аллокаций\n",
    "Исходный массив: 1, 2, 3, 4, 5, 6, 7\n",
    "k = 3\n",
    "Результат: 5, 6, 7, 1, 2, 3, 4"
   ]
  },
  {
   "cell_type": "code",
   "execution_count": 6,
   "metadata": {},
   "outputs": [
    {
     "name": "stdout",
     "output_type": "stream",
     "text": [
      "[4, 5, 6, 7, 1, 2, 3]\n"
     ]
    }
   ],
   "source": [
    "def reverse_array(arr, left, right):\n",
    "    \"\"\"Функция разворачивает массив на месте в заданном диапазоне\"\"\"\n",
    "    while left < right:\n",
    "        arr[left], arr[right] = arr[right], arr[left]\n",
    "        left += 1\n",
    "        right -= 1\n",
    "\n",
    "def rotate_array(arr, k):\n",
    "    \"\"\"Функция выполняет циклический сдвиг массива влево на k элементов\"\"\"\n",
    "    n = len(arr)\n",
    "    k = k % n  # Если k > n, берем остаток\n",
    "\n",
    "    # Разворачиваем весь массив\n",
    "    reverse_array(arr, 0, n - 1)\n",
    "    # Разворачиваем первые k элементов (были в конце)\n",
    "    reverse_array(arr, 0, n - k - 1)\n",
    "    # Разворачиваем оставшиеся элементы\n",
    "    reverse_array(arr, n - k, n - 1)\n",
    "\n",
    "    return arr\n",
    "\n",
    "# Пример использования\n",
    "arr = [1, 2, 3, 4, 5, 6, 7]\n",
    "k = 3\n",
    "print(rotate_array(arr, k)) "
   ]
  },
  {
   "cell_type": "markdown",
   "metadata": {},
   "source": [
    "# Задача №4 (Слияние двух отсортированных массивов)\n",
    "\n",
    "**описание:** Дано два отсортированных массива. Необходимо\n",
    "написать функцию которая объединит эти два массива\n",
    "в один отсортированный"
   ]
  },
  {
   "cell_type": "code",
   "execution_count": 7,
   "metadata": {},
   "outputs": [
    {
     "name": "stdout",
     "output_type": "stream",
     "text": [
      "[1, 3, 7, 8, 9, 10, 11]\n"
     ]
    }
   ],
   "source": [
    "def merge_sorted_arrays(arr1, arr2):\n",
    "    merged_array = []\n",
    "    i, j = 0, 0\n",
    "\n",
    "    # Используем два указателя для сравнения элементов в массивах\n",
    "    while i < len(arr1) and j < len(arr2):\n",
    "        if arr1[i] < arr2[j]:\n",
    "            merged_array.append(arr1[i])\n",
    "            i += 1\n",
    "        else:\n",
    "            merged_array.append(arr2[j])\n",
    "            j += 1\n",
    "\n",
    "    # Добавляем оставшиеся элементы из arr1, если они есть\n",
    "    while i < len(arr1):\n",
    "        merged_array.append(arr1[i])\n",
    "        i += 1\n",
    "\n",
    "    # Добавляем оставшиеся элементы из arr2, если они есть\n",
    "    while j < len(arr2):\n",
    "        merged_array.append(arr2[j])\n",
    "        j += 1\n",
    "\n",
    "    return merged_array\n",
    "\n",
    "# Пример использования\n",
    "arr1 = [3, 8, 10, 11]\n",
    "arr2 = [1, 7, 9]\n",
    "print(merge_sorted_arrays(arr1, arr2))  "
   ]
  },
  {
   "cell_type": "markdown",
   "metadata": {},
   "source": [
    "# Задача №5 (Слияние двух отсортированных массивов. Без дополнительных аллокаций)\n",
    "\n",
    "**описание:** Дано два отсортированных массива. Необходимо\n",
    "написать функцию которая объединит эти два массива\n",
    "в один отсортированный.\n",
    "Первый массив имеет размер, равный\n",
    "результирующиму массиву, значения в конце равны\n",
    "нулям. Мы не должны создавать третий массив."
   ]
  },
  {
   "cell_type": "code",
   "execution_count": null,
   "metadata": {},
   "outputs": [],
   "source": [
    "def merge_sorted_arrays(arr1, m, arr2, n):\n",
    "    \"\"\"\n",
    "    Сливает два отсортированных массива без выделения дополнительной памяти.\n",
    "    \n",
    "    :param arr1: Первый массив с достаточным количеством места (размер m + n).\n",
    "    :param m: Количество значащих элементов в arr1.\n",
    "    :param arr2: Второй массив.\n",
    "    :param n: Количество элементов во втором массиве.\n",
    "    \"\"\"\n",
    "    # Указатели на последний значащий элемент в arr1 и arr2\n",
    "    pointer1 = m - 1\n",
    "    pointer2 = n - 1\n",
    "    # Указатель на конец arr1 (где будем размещать элементы)\n",
    "    pointer3 = m + n - 1\n",
    "\n",
    "    # Пока есть элементы в arr2, продолжаем слияние\n",
    "    while pointer2 >= 0:\n",
    "        if pointer1 >= 0 and arr1[pointer1] > arr2[pointer2]:\n",
    "            arr1[pointer3] = arr1[pointer1]\n",
    "            pointer1 -= 1\n",
    "        else:\n",
    "            arr1[pointer3] = arr2[pointer2]\n",
    "            pointer2 -= 1\n",
    "        pointer3 -= 1\n",
    "\n",
    "# Пример использования:\n",
    "arr1 = [3, 8, 10, 11, 0, 0, 0]\n",
    "arr2 = [1, 7, 9]\n",
    "merge_sorted_arrays(arr1, 4, arr2, 3)\n",
    "print(arr1)"
   ]
  },
  {
   "cell_type": "markdown",
   "metadata": {},
   "source": [
    "# Задача №6 (Сортировка массива из 0 и 1)\n",
    "\n",
    "**описание:** Дан массив, содержащий только 0 и 1. Напишите функцию,\n",
    "которая сортирует его так, чтобы все нули оказались в\n",
    "начале, а все единички - в конце. Решение должно быть\n",
    "in-place."
   ]
  },
  {
   "cell_type": "code",
   "execution_count": 8,
   "metadata": {},
   "outputs": [
    {
     "name": "stdout",
     "output_type": "stream",
     "text": [
      "[0, 0, 0, 0, 1, 1, 1, 1]\n"
     ]
    }
   ],
   "source": [
    "def sort_binary_array(arr):\n",
    "    left, right = 0, len(arr) - 1\n",
    "\n",
    "    while left < right:\n",
    "        if arr[left] == 1 and arr[right] == 0:\n",
    "            # Меняем местами 1 и 0\n",
    "            arr[left], arr[right] = arr[right], arr[left]\n",
    "            left += 1\n",
    "            right -= 1\n",
    "        elif arr[left] == 0:\n",
    "            # Если левый элемент уже 0, двигаем указатель вправо\n",
    "            left += 1\n",
    "        else:\n",
    "            # Если правый элемент уже 1, двигаем указатель влево\n",
    "            right -= 1\n",
    "\n",
    "    return arr\n",
    "\n",
    "# Пример использования:\n",
    "arr = [0, 1, 1, 0, 1, 0, 1, 0]\n",
    "print(sort_binary_array(arr))  "
   ]
  },
  {
   "cell_type": "markdown",
   "metadata": {},
   "source": [
    "# Задача №7 (Задача флага Нидерладндов)\n",
    "\n",
    "**описание:** Дан массив состоящий из нулей, единиц и двоек.\n",
    "Необходимо его отсортировать за линейное время"
   ]
  },
  {
   "cell_type": "code",
   "execution_count": 9,
   "metadata": {},
   "outputs": [
    {
     "name": "stdout",
     "output_type": "stream",
     "text": [
      "[0, 0, 1, 1, 2, 2]\n"
     ]
    }
   ],
   "source": [
    "def sort_colors(nums):\n",
    "    low, mid, high = 0, 0, len(nums) - 1\n",
    "\n",
    "    while mid <= high:\n",
    "        if nums[mid] == 0:\n",
    "            nums[low], nums[mid] = nums[mid], nums[low]\n",
    "            low += 1\n",
    "            mid += 1\n",
    "        elif nums[mid] == 1:\n",
    "            mid += 1\n",
    "        else:  # nums[mid] == 2\n",
    "            nums[mid], nums[high] = nums[high], nums[mid]\n",
    "            high -= 1\n",
    "\n",
    "# Пример использования:\n",
    "arr = [2, 0, 2, 1, 1, 0]\n",
    "sort_colors(arr)\n",
    "print(arr) "
   ]
  },
  {
   "cell_type": "markdown",
   "metadata": {},
   "source": [
    "# Задача №8 (Передвинуть четные числа вперед)\n",
    "\n",
    "**описание:** Дан не отсортированный массив целых чисел. Необходимо перенести в начало\n",
    "массива все четные числа, сохраняя их очередность. То есть если 8 стояла после 2,\n",
    "то после переноса в начало, он по-прежнему должна стоять после 2\n",
    "Пример ввода: [3, 2, 4, 1, 11, 8, 9]\n",
    "Пример вывода: 2 4 8 1 11 3 9"
   ]
  },
  {
   "cell_type": "code",
   "execution_count": 10,
   "metadata": {},
   "outputs": [
    {
     "name": "stdout",
     "output_type": "stream",
     "text": [
      "[2, 4, 8, 1, 11, 3, 9]\n"
     ]
    }
   ],
   "source": [
    "def move_evens_first(arr):\n",
    "    even_index = 0  # Указатель на место для четного числа\n",
    "\n",
    "    for i in range(len(arr)):\n",
    "        if arr[i] % 2 == 0:  # Если число четное\n",
    "            arr[i], arr[even_index] = arr[even_index], arr[i]  # Меняем местами\n",
    "            even_index += 1  # Двигаем указатель вперед\n",
    "\n",
    "# Пример использования:\n",
    "arr = [3, 2, 4, 1, 11, 8, 9]\n",
    "move_evens_first(arr)\n",
    "print(arr)  "
   ]
  },
  {
   "cell_type": "markdown",
   "metadata": {},
   "source": [
    "# Задача №9 (Нули в конец)\n",
    "\n",
    "**описание:** В школе прошел экзамен по математике.\n",
    "Несколько человек списали решения и были\n",
    "замечены. Этим школьникам поставил 0\n",
    "баллов. Задача: есть массив с оценками,\n",
    "среди которых есть 0. Необходимо все\n",
    "оценки, равные нулю перенести в конец\n",
    "массива, чтобы все такие школьники\n",
    "оказались в конце списка. \n",
    "- **Примеры:**  \n",
    "\n",
    "- **Вход:** [0, 0, 1, 0, 3, 12]  \n",
    "  **Выход:** [1, 3, 12, 0, 0, 0]  \n",
    "\n",
    "- **Вход:** [0, 33, 57, 88, 60, 0, 0, 80, 99]  \n",
    "  **Выход:** [33, 57, 88, 60, 80, 99, 0, 0, 0]  \n",
    "\n",
    "- **Вход:** [0, 0, 0, 18, 16, 0, 0, 77, 99]  \n",
    "  **Выход:** [18, 16, 77, 99, 0, 0, 0, 0, 0]  "
   ]
  },
  {
   "cell_type": "code",
   "execution_count": 11,
   "metadata": {},
   "outputs": [
    {
     "name": "stdout",
     "output_type": "stream",
     "text": [
      "[1, 3, 12, 0, 0, 0]\n",
      "[33, 57, 88, 60, 80, 99, 0, 0, 0]\n",
      "[18, 16, 77, 99, 0, 0, 0, 0, 0]\n"
     ]
    }
   ],
   "source": [
    "def move_zeros(nums):\n",
    "    non_zero_index = 0  # Указатель для размещения ненулевых значений\n",
    "\n",
    "    # Перемещаем все ненулевые элементы в начало массива\n",
    "    for i in range(len(nums)):\n",
    "        if nums[i] != 0:\n",
    "            nums[non_zero_index], nums[i] = nums[i], nums[non_zero_index]\n",
    "            non_zero_index += 1\n",
    "\n",
    "# Пример использования:\n",
    "arr = [0, 0, 1, 0, 3, 12]\n",
    "move_zeros(arr)\n",
    "print(arr)  \n",
    "\n",
    "arr2 = [0, 33, 57, 88, 60, 0, 0, 80, 99]\n",
    "move_zeros(arr2)\n",
    "print(arr2)  \n",
    "\n",
    "arr3 = [0, 0, 0, 18, 16, 0, 0, 77, 99]\n",
    "move_zeros(arr3)\n",
    "print(arr3)  "
   ]
  }
 ],
 "metadata": {
  "kernelspec": {
   "display_name": "Python 3",
   "language": "python",
   "name": "python3"
  },
  "language_info": {
   "codemirror_mode": {
    "name": "ipython",
    "version": 3
   },
   "file_extension": ".py",
   "mimetype": "text/x-python",
   "name": "python",
   "nbconvert_exporter": "python",
   "pygments_lexer": "ipython3",
   "version": "3.9.6"
  }
 },
 "nbformat": 4,
 "nbformat_minor": 2
}
